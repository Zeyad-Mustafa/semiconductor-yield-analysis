{
 "cells": [
  {
   "cell_type": "code",
   "execution_count": null,
   "id": "8f378093",
   "metadata": {},
   "outputs": [],
   "source": [
    "# notebooks/01_eda.ipynb\n",
    "\n",
    "import pandas as pd\n",
    "import seaborn as sns\n",
    "import matplotlib.pyplot as plt\n",
    "\n",
    "df = pd.read_csv(\"../data/sample_wafer_data.csv\")\n",
    "\n",
    "# Basic stats\n",
    "print(df.describe())\n",
    "\n",
    "# Plot yield distribution\n",
    "plt.figure(figsize=(8, 5))\n",
    "sns.histplot(df['yield_pct'], bins=20, kde=True)\n",
    "plt.title(\"Yield Percentage Distribution\")\n",
    "plt.xlabel(\"Yield (%)\")\n",
    "plt.ylabel(\"Frequency\")\n",
    "plt.show()\n",
    "\n",
    "# Defect type count\n",
    "sns.countplot(data=df, x=\"defect_type\")\n",
    "plt.title(\"Defect Types\")\n",
    "plt.show()\n"
   ]
  },
  {
   "cell_type": "code",
   "execution_count": null,
   "id": "624f35ed",
   "metadata": {},
   "outputs": [],
   "source": [
    "# notebooks/01_eda.ipynb\n",
    "\n",
    "import pandas as pd\n",
    "import seaborn as sns\n",
    "import matplotlib.pyplot as plt\n",
    "\n",
    "df = pd.read_csv(\"../data/sample_wafer_data.csv\")\n",
    "\n",
    "# Basic stats\n",
    "print(df.describe())\n",
    "\n",
    "# Plot yield distribution\n",
    "plt.figure(figsize=(8, 5))\n",
    "sns.histplot(df['yield_pct'], bins=20, kde=True)\n",
    "plt.title(\"Yield Percentage Distribution\")\n",
    "plt.xlabel(\"Yield (%)\")\n",
    "plt.ylabel(\"Frequency\")\n",
    "plt.show()\n",
    "\n",
    "# Defect type count\n",
    "sns.countplot(data=df, x=\"defect_type\")\n",
    "plt.title(\"Defect Types\")\n",
    "plt.show()\n"
   ]
  },
  {
   "cell_type": "code",
   "execution_count": null,
   "id": "066c1223",
   "metadata": {},
   "outputs": [],
   "source": []
  }
 ],
 "metadata": {
  "kernelspec": {
   "display_name": "venv",
   "language": "python",
   "name": "python3"
  },
  "language_info": {
   "name": "python",
   "version": "3.13.0"
  }
 },
 "nbformat": 4,
 "nbformat_minor": 5
}

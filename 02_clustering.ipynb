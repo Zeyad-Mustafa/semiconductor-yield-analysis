{
 "cells": [
  {
   "cell_type": "code",
   "execution_count": null,
   "id": "b93433a9",
   "metadata": {
    "vscode": {
     "languageId": "plaintext"
    }
   },
   "outputs": [],
   "source": [
    "# notebooks/02_clustering.ipynb\n",
    "\n",
    "import pandas as pd\n",
    "from sklearn.cluster import KMeans\n",
    "import matplotlib.pyplot as plt\n",
    "\n",
    "df = pd.read_csv(\"../data/sample_wafer_data.csv\")\n",
    "\n",
    "# Filter one wafer\n",
    "wafer = df[df[\"wafer_id\"] == \"W0010\"]\n",
    "\n",
    "# Clustering\n",
    "coords = wafer[[\"x\", \"y\"]]\n",
    "kmeans = KMeans(n_clusters=3, random_state=42).fit(coords)\n",
    "wafer[\"cluster\"] = kmeans.labels_\n",
    "\n",
    "# Plot clusters\n",
    "plt.scatter(wafer[\"x\"], wafer[\"y\"], c=wafer[\"cluster\"], cmap=\"viridis\")\n",
    "plt.title(\"Defect Clusters for Wafer W0010\")\n",
    "plt.xlabel(\"X\")\n",
    "plt.ylabel(\"Y\")\n",
    "plt.show()\n"
   ]
  }
 ],
 "metadata": {
  "language_info": {
   "name": "python"
  }
 },
 "nbformat": 4,
 "nbformat_minor": 5
}
